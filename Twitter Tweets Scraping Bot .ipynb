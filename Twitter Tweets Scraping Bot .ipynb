{
 "cells": [
  {
   "cell_type": "code",
   "execution_count": 118,
   "id": "5e11d3ad",
   "metadata": {},
   "outputs": [],
   "source": [
    "import pandas as pd \n",
    "import numpy as np\n",
    "import selenium \n",
    "from selenium import webdriver \n",
    "from selenium.webdriver.common.keys import Keys\n",
    "from selenium.webdriver.common.by import By\n",
    "from selenium.webdriver.support import expected_conditions as EC\n",
    "from selenium.webdriver.support.ui import WebDriverWait\n",
    "from bs4 import BeautifulSoup\n",
    "import time"
   ]
  },
  {
   "cell_type": "code",
   "execution_count": 119,
   "id": "010354ca",
   "metadata": {},
   "outputs": [
    {
     "name": "stderr",
     "output_type": "stream",
     "text": [
      "C:\\Users\\asus\\AppData\\Local\\Temp\\ipykernel_38008\\2633327143.py:1: DeprecationWarning: executable_path has been deprecated, please pass in a Service object\n",
      "  driver = webdriver.Chrome(\"C:\\\\Users\\\\asus\\\\OneDrive\\\\Desktop\\\\Drivers\\\\chromedriver.exe\")\n"
     ]
    }
   ],
   "source": [
    "driver = webdriver.Chrome(\"C:\\\\Users\\\\asus\\\\OneDrive\\\\Desktop\\\\Drivers\\\\chromedriver.exe\")\n",
    "url = \"https://www.twitter.com\"\n",
    "driver.get(url)"
   ]
  },
  {
   "cell_type": "markdown",
   "id": "357dc1b8",
   "metadata": {},
   "source": [
    "# after you have logged in , you can now run the cell Below this HEADING \n"
   ]
  },
  {
   "cell_type": "code",
   "execution_count": 121,
   "id": "1752b71c",
   "metadata": {},
   "outputs": [
    {
     "name": "stdout",
     "output_type": "stream",
     "text": [
      "Please write the name of the celebrity whose tweets you would like to scrape john cena\n",
      "enter the number of tweets you want to scrape 5\n",
      "your response is john cena ,5\n"
     ]
    },
    {
     "ename": "NoSuchElementException",
     "evalue": "Message: no such element: Unable to locate element: {\"method\":\"xpath\",\"selector\":\"//*[@id=\"react-root\"]/div/div/div[2]/main/div/div/div/div[1]/div/div[1]/div[1]/div[2]/nav/div/div[2]/div/div[3]/a/div/div/span\"}\n  (Session info: chrome=110.0.5481.78)\nStacktrace:\nBacktrace:\n\t(No symbol) [0x005637D3]\n\t(No symbol) [0x004F8B81]\n\t(No symbol) [0x003FB36D]\n\t(No symbol) [0x0042D382]\n\t(No symbol) [0x0042D4BB]\n\t(No symbol) [0x00463302]\n\t(No symbol) [0x0044B464]\n\t(No symbol) [0x00461215]\n\t(No symbol) [0x0044B216]\n\t(No symbol) [0x00420D97]\n\t(No symbol) [0x0042253D]\n\tGetHandleVerifier [0x007DABF2+2510930]\n\tGetHandleVerifier [0x00808EC1+2700065]\n\tGetHandleVerifier [0x0080C86C+2714828]\n\tGetHandleVerifier [0x00613480+645344]\n\t(No symbol) [0x00500FD2]\n\t(No symbol) [0x00506C68]\n\t(No symbol) [0x00506D4B]\n\t(No symbol) [0x00510D6B]\n\tBaseThreadInitThunk [0x76A37D69+25]\n\tRtlInitializeExceptionChain [0x7793BB9B+107]\n\tRtlClearBits [0x7793BB1F+191]\n",
     "output_type": "error",
     "traceback": [
      "\u001b[1;31m---------------------------------------------------------------------------\u001b[0m",
      "\u001b[1;31mNoSuchElementException\u001b[0m                    Traceback (most recent call last)",
      "Input \u001b[1;32mIn [121]\u001b[0m, in \u001b[0;36m<module>\u001b[1;34m\u001b[0m\n\u001b[0;32m      5\u001b[0m searchbox\u001b[38;5;241m.\u001b[39msend_keys(nameofceleb)\n\u001b[0;32m      6\u001b[0m searchbox\u001b[38;5;241m.\u001b[39msend_keys(Keys\u001b[38;5;241m.\u001b[39mENTER)\n\u001b[1;32m----> 7\u001b[0m peoplestab \u001b[38;5;241m=\u001b[39m \u001b[43mdriver\u001b[49m\u001b[38;5;241;43m.\u001b[39;49m\u001b[43mfind_element\u001b[49m\u001b[43m(\u001b[49m\u001b[43mby\u001b[49m\u001b[38;5;241;43m=\u001b[39;49m\u001b[38;5;124;43m'\u001b[39;49m\u001b[38;5;124;43mxpath\u001b[39;49m\u001b[38;5;124;43m'\u001b[39;49m\u001b[43m,\u001b[49m\u001b[43mvalue\u001b[49m\u001b[38;5;241;43m=\u001b[39;49m\u001b[38;5;124;43m'\u001b[39;49m\u001b[38;5;124;43m//*[@id=\u001b[39;49m\u001b[38;5;124;43m\"\u001b[39;49m\u001b[38;5;124;43mreact-root\u001b[39;49m\u001b[38;5;124;43m\"\u001b[39;49m\u001b[38;5;124;43m]/div/div/div[2]/main/div/div/div/div[1]/div/div[1]/div[1]/div[2]/nav/div/div[2]/div/div[3]/a/div/div/span\u001b[39;49m\u001b[38;5;124;43m'\u001b[39;49m\u001b[43m)\u001b[49m\n\u001b[0;32m      8\u001b[0m peoplestab\u001b[38;5;241m.\u001b[39mclick()\n\u001b[0;32m      9\u001b[0m topmost \u001b[38;5;241m=\u001b[39m driver\u001b[38;5;241m.\u001b[39mfind_element(by \u001b[38;5;241m=\u001b[39m \u001b[38;5;124m'\u001b[39m\u001b[38;5;124mxpath\u001b[39m\u001b[38;5;124m'\u001b[39m,value \u001b[38;5;241m=\u001b[39m\u001b[38;5;124m'\u001b[39m\u001b[38;5;124m//*[@id=\u001b[39m\u001b[38;5;124m\"\u001b[39m\u001b[38;5;124mreact-root\u001b[39m\u001b[38;5;124m\"\u001b[39m\u001b[38;5;124m]/div/div/div[2]/main/div/div/div/div[1]/div/div[3]/div/section/div/div/div[1]/div/div/div/div/div[2]/div[1]\u001b[39m\u001b[38;5;124m'\u001b[39m)\u001b[38;5;241m.\u001b[39mclick()\n",
      "File \u001b[1;32m~\\AppData\\Local\\Programs\\Python\\Python310\\lib\\site-packages\\selenium\\webdriver\\remote\\webdriver.py:861\u001b[0m, in \u001b[0;36mWebDriver.find_element\u001b[1;34m(self, by, value)\u001b[0m\n\u001b[0;32m    858\u001b[0m     by \u001b[38;5;241m=\u001b[39m By\u001b[38;5;241m.\u001b[39mCSS_SELECTOR\n\u001b[0;32m    859\u001b[0m     value \u001b[38;5;241m=\u001b[39m \u001b[38;5;124m'\u001b[39m\u001b[38;5;124m[name=\u001b[39m\u001b[38;5;124m\"\u001b[39m\u001b[38;5;132;01m%s\u001b[39;00m\u001b[38;5;124m\"\u001b[39m\u001b[38;5;124m]\u001b[39m\u001b[38;5;124m'\u001b[39m \u001b[38;5;241m%\u001b[39m value\n\u001b[1;32m--> 861\u001b[0m \u001b[38;5;28;01mreturn\u001b[39;00m \u001b[38;5;28;43mself\u001b[39;49m\u001b[38;5;241;43m.\u001b[39;49m\u001b[43mexecute\u001b[49m\u001b[43m(\u001b[49m\u001b[43mCommand\u001b[49m\u001b[38;5;241;43m.\u001b[39;49m\u001b[43mFIND_ELEMENT\u001b[49m\u001b[43m,\u001b[49m\u001b[43m \u001b[49m\u001b[43m{\u001b[49m\u001b[38;5;124;43m\"\u001b[39;49m\u001b[38;5;124;43musing\u001b[39;49m\u001b[38;5;124;43m\"\u001b[39;49m\u001b[43m:\u001b[49m\u001b[43m \u001b[49m\u001b[43mby\u001b[49m\u001b[43m,\u001b[49m\u001b[43m \u001b[49m\u001b[38;5;124;43m\"\u001b[39;49m\u001b[38;5;124;43mvalue\u001b[39;49m\u001b[38;5;124;43m\"\u001b[39;49m\u001b[43m:\u001b[49m\u001b[43m \u001b[49m\u001b[43mvalue\u001b[49m\u001b[43m}\u001b[49m\u001b[43m)\u001b[49m[\u001b[38;5;124m\"\u001b[39m\u001b[38;5;124mvalue\u001b[39m\u001b[38;5;124m\"\u001b[39m]\n",
      "File \u001b[1;32m~\\AppData\\Local\\Programs\\Python\\Python310\\lib\\site-packages\\selenium\\webdriver\\remote\\webdriver.py:444\u001b[0m, in \u001b[0;36mWebDriver.execute\u001b[1;34m(self, driver_command, params)\u001b[0m\n\u001b[0;32m    442\u001b[0m response \u001b[38;5;241m=\u001b[39m \u001b[38;5;28mself\u001b[39m\u001b[38;5;241m.\u001b[39mcommand_executor\u001b[38;5;241m.\u001b[39mexecute(driver_command, params)\n\u001b[0;32m    443\u001b[0m \u001b[38;5;28;01mif\u001b[39;00m response:\n\u001b[1;32m--> 444\u001b[0m     \u001b[38;5;28;43mself\u001b[39;49m\u001b[38;5;241;43m.\u001b[39;49m\u001b[43merror_handler\u001b[49m\u001b[38;5;241;43m.\u001b[39;49m\u001b[43mcheck_response\u001b[49m\u001b[43m(\u001b[49m\u001b[43mresponse\u001b[49m\u001b[43m)\u001b[49m\n\u001b[0;32m    445\u001b[0m     response[\u001b[38;5;124m\"\u001b[39m\u001b[38;5;124mvalue\u001b[39m\u001b[38;5;124m\"\u001b[39m] \u001b[38;5;241m=\u001b[39m \u001b[38;5;28mself\u001b[39m\u001b[38;5;241m.\u001b[39m_unwrap_value(response\u001b[38;5;241m.\u001b[39mget(\u001b[38;5;124m\"\u001b[39m\u001b[38;5;124mvalue\u001b[39m\u001b[38;5;124m\"\u001b[39m, \u001b[38;5;28;01mNone\u001b[39;00m))\n\u001b[0;32m    446\u001b[0m     \u001b[38;5;28;01mreturn\u001b[39;00m response\n",
      "File \u001b[1;32m~\\AppData\\Local\\Programs\\Python\\Python310\\lib\\site-packages\\selenium\\webdriver\\remote\\errorhandler.py:249\u001b[0m, in \u001b[0;36mErrorHandler.check_response\u001b[1;34m(self, response)\u001b[0m\n\u001b[0;32m    247\u001b[0m         alert_text \u001b[38;5;241m=\u001b[39m value[\u001b[38;5;124m\"\u001b[39m\u001b[38;5;124malert\u001b[39m\u001b[38;5;124m\"\u001b[39m]\u001b[38;5;241m.\u001b[39mget(\u001b[38;5;124m\"\u001b[39m\u001b[38;5;124mtext\u001b[39m\u001b[38;5;124m\"\u001b[39m)\n\u001b[0;32m    248\u001b[0m     \u001b[38;5;28;01mraise\u001b[39;00m exception_class(message, screen, stacktrace, alert_text)  \u001b[38;5;66;03m# type: ignore[call-arg]  # mypy is not smart enough here\u001b[39;00m\n\u001b[1;32m--> 249\u001b[0m \u001b[38;5;28;01mraise\u001b[39;00m exception_class(message, screen, stacktrace)\n",
      "\u001b[1;31mNoSuchElementException\u001b[0m: Message: no such element: Unable to locate element: {\"method\":\"xpath\",\"selector\":\"//*[@id=\"react-root\"]/div/div/div[2]/main/div/div/div/div[1]/div/div[1]/div[1]/div[2]/nav/div/div[2]/div/div[3]/a/div/div/span\"}\n  (Session info: chrome=110.0.5481.78)\nStacktrace:\nBacktrace:\n\t(No symbol) [0x005637D3]\n\t(No symbol) [0x004F8B81]\n\t(No symbol) [0x003FB36D]\n\t(No symbol) [0x0042D382]\n\t(No symbol) [0x0042D4BB]\n\t(No symbol) [0x00463302]\n\t(No symbol) [0x0044B464]\n\t(No symbol) [0x00461215]\n\t(No symbol) [0x0044B216]\n\t(No symbol) [0x00420D97]\n\t(No symbol) [0x0042253D]\n\tGetHandleVerifier [0x007DABF2+2510930]\n\tGetHandleVerifier [0x00808EC1+2700065]\n\tGetHandleVerifier [0x0080C86C+2714828]\n\tGetHandleVerifier [0x00613480+645344]\n\t(No symbol) [0x00500FD2]\n\t(No symbol) [0x00506C68]\n\t(No symbol) [0x00506D4B]\n\t(No symbol) [0x00510D6B]\n\tBaseThreadInitThunk [0x76A37D69+25]\n\tRtlInitializeExceptionChain [0x7793BB9B+107]\n\tRtlClearBits [0x7793BB1F+191]\n"
     ]
    }
   ],
   "source": [
    "searchbox = WebDriverWait(driver,10).until(EC.presence_of_element_located((By.XPATH,\"//div[@dir='ltr']/input[@placeholder='Search Twitter']\")))\n",
    "nameofceleb = input(\"Please write the name of the celebrity whose tweets you would like to scrape \")\n",
    "numberoftweets= int(input(\"enter the number of tweets you want to scrape \"))\n",
    "print(\"your response is {} ,{}\".format(nameofceleb,numberoftweets))\n",
    "searchbox.send_keys(nameofceleb)\n",
    "searchbox.send_keys(Keys.ENTER)\n",
    "peoplestab = driver.find_element(by='xpath',value='//*[@id=\"react-root\"]/div/div/div[2]/main/div/div/div/div[1]/div/div[1]/div[1]/div[2]/nav/div/div[2]/div/div[3]/a/div/div/span')\n",
    "peoplestab.click()\n",
    "topmost = driver.find_element(by = 'xpath',value ='//*[@id=\"react-root\"]/div/div/div[2]/main/div/div/div/div[1]/div/div[3]/div/section/div/div/div[1]/div/div/div/div/div[2]/div[1]').click()\n",
    "soup = BeautifulSoup(driver.page_source,'lxml')\n",
    "posting = soup.find_all('div',class_='css-901oao r-1nao33i r-37j5jr r-a023e6 r-16dba41 r-rjixqe r-bcqeeo r-bnwqim r-qvutc0')\n",
    "\n",
    "tweets =[]\n",
    "while True:\n",
    "    for post in posting:\n",
    "        tweets.append(\"tweet: {}\".format(post.text))\n",
    "    driver.execute_script('window.scrollTo(0,document.body.scrollHeight)')\n",
    "    time.sleep(1)\n",
    "    soup = BeautifulSoup(driver.page_source,'lxml')\n",
    "    posting = soup.find_all('div',class_='css-901oao r-1nao33i r-37j5jr r-a023e6 r-16dba41 r-rjixqe r-bcqeeo r-bnwqim r-qvutc0')\n",
    "    tweetsfinal = list(set(tweets))\n",
    "    if(len(tweetsfinal)>=numberoftweets):\n",
    "        break\n",
    "\n",
    "\n",
    "# new_tweet =[]\n",
    "# for i in tweetsfinal:\n",
    "#     if 'The Rock' in i:\n",
    "#         new_tweet.append(i)\n",
    "print(\"All Tweets scraped successfully , now showing them......\")\n",
    "print()\n",
    "print(tweetsfinal)\n",
    "resetbird = driver.find_element(by='xpath',value ='//*[@id=\"react-root\"]/div/div/div[2]/header/div/div/div/div[1]/div[1]/h1/a/div').click()      \n",
    "driver.refresh()"
   ]
  },
  {
   "cell_type": "code",
   "execution_count": 109,
   "id": "9f397922",
   "metadata": {},
   "outputs": [
    {
     "data": {
      "text/plain": [
       "['tweet: Be tolerant and open minded to constructive criticism. Be distant to hate.\\nBe aware of the difference.',\n",
       " 'tweet: Perspective is a choice we all have control of. Keeping a good perspective is very hard work but will provide a sustainable boost in gratitude.',\n",
       " 'tweet: Be where you are.',\n",
       " \"tweet: You do not wanna miss the final @WWE event of 2022!\\nGet ready Tampa, FL - #Smackdown\\n@WWERomanReigns and @SamiZayn vs. @FightOwensFight and YOURS TRULY!!\\n\\nI'll C U THERE! \\n\\nhttps://ticketmaster.com/wwe-friday-night-smackdown-tampa-florida-12-30-2022/event/0D005CECC518B971…\",\n",
       " 'tweet: ',\n",
       " 'tweet: The other shoe might indeed drop, but waiting for it will severely reduce the amount of joy allowed in life.',\n",
       " 'tweet: There will always be so much to do. When overwhelmed, focus on what’s in front of you, be present and invest in it until it’s time to move onto the next thing. Find the strength to fend off the massive amount of unnecessary distractions out there.',\n",
       " 'tweet: Many hard decisions involve the concept of failure. Continuing an activity simply to uphold perception that it isn’t a failure, will most always result in a deeper loss.',\n",
       " 'tweet: ONE MORE DAY until #Smackdown in Tampa, FL! \\n\\nThe LAST @WWE show of 2022 \\nA must-see MAIN EVENT \\n\\nCENA  and KO \\nvs.\\nROMAN and SAMI \\n\\nC U TOMORROW NIGHT!',\n",
       " 'tweet: Don’t try to do it all, just try to do it well.',\n",
       " 'tweet: SURPRISE! \\n\\n@FightOwensFight has found a tag team partner for his match against @WWERomanReigns and @SamiZayn for the DEC. 30th episode of #SmackDown....\\n\\nand his name is @JohnCena! ',\n",
       " 'tweet: Give people a chance. They’ll either prove your judgements were correct or they might surprise you. Gain the patience and courage to find out.',\n",
       " 'tweet: If given the option, choose joy.',\n",
       " 'tweet: Confront and recognize your limitations. There can be powerful efficiency in fully understanding capabilities.',\n",
       " 'tweet: Remain curious as to who you are. Forever search for why you are. Be open minded enough to know those answers can constantly change.',\n",
       " 'tweet: Most won’t understand. Many will be hurtful. Some will be helpful. Few will love openly. One must never give up on believing in self and exploring the gift of life.',\n",
       " 'tweet: Forgive. The longer we hold onto it, the heavier it will become.',\n",
       " 'tweet: Sometimes we need energy, sometimes we need to pass it on. Be mindful of our needs and the needs of others.',\n",
       " 'tweet: Instant gratification is what it says it is. Just never let it out maneuver curiosity, joy and fulfillment.']"
      ]
     },
     "execution_count": 109,
     "metadata": {},
     "output_type": "execute_result"
    }
   ],
   "source": []
  },
  {
   "cell_type": "code",
   "execution_count": null,
   "id": "f4c10d3e",
   "metadata": {},
   "outputs": [],
   "source": []
  }
 ],
 "metadata": {
  "kernelspec": {
   "display_name": "Python 3",
   "language": "python",
   "name": "python3"
  },
  "language_info": {
   "codemirror_mode": {
    "name": "ipython",
    "version": 3
   },
   "file_extension": ".py",
   "mimetype": "text/x-python",
   "name": "python",
   "nbconvert_exporter": "python",
   "pygments_lexer": "ipython3",
   "version": "3.10.7"
  }
 },
 "nbformat": 4,
 "nbformat_minor": 5
}
