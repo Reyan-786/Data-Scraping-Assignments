{
 "cells": [
  {
   "cell_type": "code",
   "execution_count": 25,
   "id": "dba288dd",
   "metadata": {},
   "outputs": [
    {
     "name": "stderr",
     "output_type": "stream",
     "text": [
      "C:\\Users\\asus\\AppData\\Local\\Programs\\Python\\Python310\\lib\\site-packages\\requests\\__init__.py:102: RequestsDependencyWarning: urllib3 (1.26.8) or chardet (5.1.0)/charset_normalizer (2.0.12) doesn't match a supported version!\n",
      "  warnings.warn(\"urllib3 ({}) or chardet ({})/charset_normalizer ({}) doesn't match a supported \"\n"
     ]
    }
   ],
   "source": [
    "import json\n",
    "import pandas as pd\n",
    "from selenium import webdriver\n",
    "import numpy as np\n",
    "from selenium.webdriver.common.by import By\n",
    "import requests\n",
    "from bs4 import BeautifulSoup\n",
    "import os\n",
    "os.chdir(\"C:/Users/asus/OneDrive/Desktop/SEM RUSH SCRAPING\")"
   ]
  },
  {
   "cell_type": "code",
   "execution_count": 34,
   "id": "3ce5e689",
   "metadata": {},
   "outputs": [
    {
     "name": "stderr",
     "output_type": "stream",
     "text": [
      "C:\\Users\\asus\\AppData\\Local\\Temp\\ipykernel_42584\\3946846012.py:1: DeprecationWarning: executable_path has been deprecated, please pass in a Service object\n",
      "  driver = webdriver.Chrome(\"C:/Users/asus/OneDrive/Desktop/Drivers/chromedriver.exe\")\n"
     ]
    }
   ],
   "source": [
    "driver = webdriver.Chrome(\"C:/Users/asus/OneDrive/Desktop/Drivers/chromedriver.exe\")\n",
    "driver.get(\"https://www.semrush.com/analytics/adwords/positions/?q=ebay.com&searchType=domain\")\n"
   ]
  },
  {
   "cell_type": "code",
   "execution_count": 26,
   "id": "408d08e0",
   "metadata": {
    "scrolled": true
   },
   "outputs": [
    {
     "data": {
      "text/plain": [
       "['823,000',\n",
       " '823,000',\n",
       " '246,000',\n",
       " '201,000',\n",
       " '135,000',\n",
       " '135,000',\n",
       " '135,000',\n",
       " '110,000',\n",
       " '110,000',\n",
       " '368,000']"
      ]
     },
     "execution_count": 26,
     "metadata": {},
     "output_type": "execute_result"
    }
   ],
   "source": [
    "Volume = driver.find_elements(By.XPATH,\"//div[@name='volume']/span\")\n",
    "volume =[]\n",
    "for i in Volume:\n",
    "    volume.append(i.text)\n",
    "    \n",
    "volume "
   ]
  },
  {
   "cell_type": "code",
   "execution_count": 8,
   "id": "4ac8d480",
   "metadata": {},
   "outputs": [],
   "source": [
    "URL =driver.find_elements(By.XPATH,\"//div/span[@class='cl-display-keyword']/a\")\n",
    "urls =[]\n",
    "for i in URL:\n",
    "    urls.append(i.get_attribute(\"href\"))"
   ]
  },
  {
   "cell_type": "code",
   "execution_count": 9,
   "id": "5b2cb53c",
   "metadata": {},
   "outputs": [
    {
     "data": {
      "text/plain": [
       "['https://www.semrush.com/analytics/phrase/?db=us&q=ebay%20motors&device=desktop',\n",
       " 'https://www.semrush.com/analytics/phrase/?db=us&q=aaron%20judge&device=desktop',\n",
       " 'https://www.semrush.com/analytics/phrase/?db=us&q=ebay%20usa&device=desktop',\n",
       " 'https://www.semrush.com/analytics/phrase/?db=us&q=my%20ebay&device=desktop',\n",
       " 'https://www.semrush.com/analytics/phrase/?db=us&q=google%20pixel&device=desktop',\n",
       " 'https://www.semrush.com/analytics/phrase/?db=us&q=eb&device=desktop',\n",
       " 'https://www.semrush.com/analytics/phrase/?db=us&q=enay&device=desktop',\n",
       " 'https://www.semrush.com/analytics/phrase/?db=us&q=evay&device=desktop',\n",
       " 'https://www.semrush.com/analytics/phrase/?db=us&q=used%20books&device=desktop',\n",
       " 'https://www.semrush.com/analytics/phrase/?db=us&q=google%20fi&device=desktop']"
      ]
     },
     "execution_count": 9,
     "metadata": {},
     "output_type": "execute_result"
    }
   ],
   "source": [
    "urls"
   ]
  },
  {
   "cell_type": "code",
   "execution_count": 18,
   "id": "b3b5f978",
   "metadata": {},
   "outputs": [],
   "source": [
    "keywords =[]\n",
    "for i in range(1,101):\n",
    "    try:\n",
    "        keyword = driver.find_element(by =By.XPATH ,value ='/html/body/div[1]/main/div/div/div/div/div[2]/div/div[3]/div/div[5]/div/div[2]/div/div[1]/div[1]/div/div/div[2]/div/div/div/div/div/div/div['+str(i)+']/div[4]/div/span/a/span/span/span[1]')\n",
    "        keywords.append(keyword.text)\n",
    "    except:\n",
    "        pass"
   ]
  },
  {
   "cell_type": "code",
   "execution_count": 19,
   "id": "bec53b46",
   "metadata": {},
   "outputs": [
    {
     "data": {
      "text/plain": [
       "['ebay motors',\n",
       " 'aaron judge',\n",
       " 'ebay usa',\n",
       " 'my ebay',\n",
       " 'google pixel',\n",
       " 'eb',\n",
       " 'enay',\n",
       " 'evay',\n",
       " 'used books',\n",
       " 'google fi']"
      ]
     },
     "execution_count": 19,
     "metadata": {},
     "output_type": "execute_result"
    }
   ],
   "source": [
    "keywords"
   ]
  },
  {
   "cell_type": "code",
   "execution_count": 20,
   "id": "f1332944",
   "metadata": {},
   "outputs": [],
   "source": [
    "list2=[]\n",
    "keyword2 = driver.find_elements(By.XPATH,value =\"//span[@class='cl-display-keyword']/a/span/span/span\")\n",
    "for i in keyword2:\n",
    "    word =i.text\n",
    "    word.lstrip()\n",
    "    word.rstrip()\n",
    "    list2.append(word)\n"
   ]
  },
  {
   "cell_type": "code",
   "execution_count": 21,
   "id": "136a5425",
   "metadata": {},
   "outputs": [
    {
     "data": {
      "text/plain": [
       "['ebay motors',\n",
       " '',\n",
       " 'aaron judge',\n",
       " '',\n",
       " 'ebay usa',\n",
       " '',\n",
       " 'my ebay',\n",
       " '',\n",
       " 'google pixel',\n",
       " '',\n",
       " 'eb',\n",
       " '',\n",
       " 'enay',\n",
       " '',\n",
       " 'evay',\n",
       " '',\n",
       " 'used books',\n",
       " '',\n",
       " 'google fi',\n",
       " '']"
      ]
     },
     "execution_count": 21,
     "metadata": {},
     "output_type": "execute_result"
    }
   ],
   "source": [
    "list2"
   ]
  },
  {
   "cell_type": "code",
   "execution_count": 23,
   "id": "24e6edd5",
   "metadata": {},
   "outputs": [],
   "source": [
    "cpc=[]\n",
    "cpcs = driver.find_elements(by=By.XPATH,value ='//div[@name=\"cpc\"]/span')\n",
    "for i in cpcs:\n",
    "    try:\n",
    "        cpc.append(i.text)\n",
    "    except:\n",
    "        pass"
   ]
  },
  {
   "cell_type": "code",
   "execution_count": 24,
   "id": "71aaf151",
   "metadata": {
    "scrolled": false
   },
   "outputs": [
    {
     "data": {
      "text/plain": [
       "['1.27',\n",
       " '0.42',\n",
       " '0.35',\n",
       " '2.78',\n",
       " '5.33',\n",
       " '5.64',\n",
       " '2.23',\n",
       " '2.23',\n",
       " '0.59',\n",
       " '82.62']"
      ]
     },
     "execution_count": 24,
     "metadata": {},
     "output_type": "execute_result"
    }
   ],
   "source": [
    "cpc"
   ]
  },
  {
   "cell_type": "code",
   "execution_count": 27,
   "id": "e23aa94a",
   "metadata": {},
   "outputs": [],
   "source": [
    "df2 = pd.DataFrame({\"KeyWord\":keywords,\"Volume\":volume,\"Average pay per Click on Target\":cpc,\"URL Taken\":urls})"
   ]
  },
  {
   "cell_type": "code",
   "execution_count": 30,
   "id": "f87c61a4",
   "metadata": {},
   "outputs": [
    {
     "data": {
      "text/html": [
       "<div>\n",
       "<style scoped>\n",
       "    .dataframe tbody tr th:only-of-type {\n",
       "        vertical-align: middle;\n",
       "    }\n",
       "\n",
       "    .dataframe tbody tr th {\n",
       "        vertical-align: top;\n",
       "    }\n",
       "\n",
       "    .dataframe thead th {\n",
       "        text-align: right;\n",
       "    }\n",
       "</style>\n",
       "<table border=\"1\" class=\"dataframe\">\n",
       "  <thead>\n",
       "    <tr style=\"text-align: right;\">\n",
       "      <th></th>\n",
       "      <th>KeyWord</th>\n",
       "      <th>Volume</th>\n",
       "      <th>Average pay per Click on Target</th>\n",
       "      <th>URL Taken</th>\n",
       "    </tr>\n",
       "  </thead>\n",
       "  <tbody>\n",
       "    <tr>\n",
       "      <th>0</th>\n",
       "      <td>ebay motors</td>\n",
       "      <td>823,000</td>\n",
       "      <td>1.27</td>\n",
       "      <td>https://www.semrush.com/analytics/phrase/?db=u...</td>\n",
       "    </tr>\n",
       "    <tr>\n",
       "      <th>1</th>\n",
       "      <td>aaron judge</td>\n",
       "      <td>823,000</td>\n",
       "      <td>0.42</td>\n",
       "      <td>https://www.semrush.com/analytics/phrase/?db=u...</td>\n",
       "    </tr>\n",
       "    <tr>\n",
       "      <th>2</th>\n",
       "      <td>ebay usa</td>\n",
       "      <td>246,000</td>\n",
       "      <td>0.35</td>\n",
       "      <td>https://www.semrush.com/analytics/phrase/?db=u...</td>\n",
       "    </tr>\n",
       "    <tr>\n",
       "      <th>3</th>\n",
       "      <td>my ebay</td>\n",
       "      <td>201,000</td>\n",
       "      <td>2.78</td>\n",
       "      <td>https://www.semrush.com/analytics/phrase/?db=u...</td>\n",
       "    </tr>\n",
       "    <tr>\n",
       "      <th>4</th>\n",
       "      <td>google pixel</td>\n",
       "      <td>135,000</td>\n",
       "      <td>5.33</td>\n",
       "      <td>https://www.semrush.com/analytics/phrase/?db=u...</td>\n",
       "    </tr>\n",
       "    <tr>\n",
       "      <th>5</th>\n",
       "      <td>eb</td>\n",
       "      <td>135,000</td>\n",
       "      <td>5.64</td>\n",
       "      <td>https://www.semrush.com/analytics/phrase/?db=u...</td>\n",
       "    </tr>\n",
       "    <tr>\n",
       "      <th>6</th>\n",
       "      <td>enay</td>\n",
       "      <td>135,000</td>\n",
       "      <td>2.23</td>\n",
       "      <td>https://www.semrush.com/analytics/phrase/?db=u...</td>\n",
       "    </tr>\n",
       "    <tr>\n",
       "      <th>7</th>\n",
       "      <td>evay</td>\n",
       "      <td>110,000</td>\n",
       "      <td>2.23</td>\n",
       "      <td>https://www.semrush.com/analytics/phrase/?db=u...</td>\n",
       "    </tr>\n",
       "    <tr>\n",
       "      <th>8</th>\n",
       "      <td>used books</td>\n",
       "      <td>110,000</td>\n",
       "      <td>0.59</td>\n",
       "      <td>https://www.semrush.com/analytics/phrase/?db=u...</td>\n",
       "    </tr>\n",
       "    <tr>\n",
       "      <th>9</th>\n",
       "      <td>google fi</td>\n",
       "      <td>368,000</td>\n",
       "      <td>82.62</td>\n",
       "      <td>https://www.semrush.com/analytics/phrase/?db=u...</td>\n",
       "    </tr>\n",
       "  </tbody>\n",
       "</table>\n",
       "</div>"
      ],
      "text/plain": [
       "        KeyWord   Volume Average pay per Click on Target  \\\n",
       "0   ebay motors  823,000                            1.27   \n",
       "1   aaron judge  823,000                            0.42   \n",
       "2      ebay usa  246,000                            0.35   \n",
       "3       my ebay  201,000                            2.78   \n",
       "4  google pixel  135,000                            5.33   \n",
       "5            eb  135,000                            5.64   \n",
       "6          enay  135,000                            2.23   \n",
       "7          evay  110,000                            2.23   \n",
       "8    used books  110,000                            0.59   \n",
       "9     google fi  368,000                           82.62   \n",
       "\n",
       "                                           URL Taken  \n",
       "0  https://www.semrush.com/analytics/phrase/?db=u...  \n",
       "1  https://www.semrush.com/analytics/phrase/?db=u...  \n",
       "2  https://www.semrush.com/analytics/phrase/?db=u...  \n",
       "3  https://www.semrush.com/analytics/phrase/?db=u...  \n",
       "4  https://www.semrush.com/analytics/phrase/?db=u...  \n",
       "5  https://www.semrush.com/analytics/phrase/?db=u...  \n",
       "6  https://www.semrush.com/analytics/phrase/?db=u...  \n",
       "7  https://www.semrush.com/analytics/phrase/?db=u...  \n",
       "8  https://www.semrush.com/analytics/phrase/?db=u...  \n",
       "9  https://www.semrush.com/analytics/phrase/?db=u...  "
      ]
     },
     "execution_count": 30,
     "metadata": {},
     "output_type": "execute_result"
    }
   ],
   "source": [
    "df2\n"
   ]
  },
  {
   "cell_type": "code",
   "execution_count": 29,
   "id": "5f8744f0",
   "metadata": {},
   "outputs": [
    {
     "name": "stdout",
     "output_type": "stream",
     "text": [
      "10\n",
      "10\n",
      "10\n",
      "10\n"
     ]
    }
   ],
   "source": [
    "print(len(volume))\n",
    "print(len(keywords))\n",
    "print(len(urls))\n",
    "print(len(cpc))"
   ]
  },
  {
   "cell_type": "code",
   "execution_count": null,
   "id": "ae977348",
   "metadata": {},
   "outputs": [],
   "source": [
    "df2.to_csv(\"KeyWords.csv\")"
   ]
  },
  {
   "cell_type": "code",
   "execution_count": 31,
   "id": "dd8ea330",
   "metadata": {},
   "outputs": [],
   "source": [
    "with open(\"ebay_mobile.json\",'r') as f:\n",
    "    data = json.loads(f.read())"
   ]
  },
  {
   "cell_type": "code",
   "execution_count": 32,
   "id": "f06cea25",
   "metadata": {},
   "outputs": [],
   "source": [
    "df4 = pd.DataFrame({\"Date\":[''],\"Organic Traffic\":[''],\"Adwords Traffic\":['']})\n",
    "for i in data[\"result\"]:\n",
    "    length = len(df4)\n",
    "    df4.loc[length]= {\"Date\":i['date'],\"Adwords Traffic\":i['adwordsTraffic'],\"Organic Traffic\":i['organicTraffic']}\n"
   ]
  },
  {
   "cell_type": "code",
   "execution_count": null,
   "id": "6bd112e3",
   "metadata": {},
   "outputs": [],
   "source": [
    "df4 = df4.T\n",
    "df4.to_csv(\"ebay_mobile_t.csv\")\n"
   ]
  },
  {
   "cell_type": "code",
   "execution_count": null,
   "id": "51d919b8",
   "metadata": {},
   "outputs": [],
   "source": [
    "df4 = df4.drop(0,axis =0)\n",
    "df4.to_csv(\"ebay mobile.csv\")\n"
   ]
  },
  {
   "cell_type": "code",
   "execution_count": 33,
   "id": "ecb442d1",
   "metadata": {},
   "outputs": [
    {
     "name": "stderr",
     "output_type": "stream",
     "text": [
      "C:\\Users\\asus\\AppData\\Local\\Temp\\ipykernel_42584\\754085603.py:11: DeprecationWarning: executable_path has been deprecated, please pass in a Service object\n",
      "  driver = webdriver.Chrome(\"C:\\\\Users\\\\asus\\\\OneDrive\\\\Desktop\\\\Drivers\\\\chromedriver.exe\")\n"
     ]
    },
    {
     "ename": "NoSuchWindowException",
     "evalue": "Message: no such window: target window already closed\nfrom unknown error: web view not found\n  (Session info: chrome=108.0.5359.125)\nStacktrace:\nBacktrace:\n\t(No symbol) [0x00F2F243]\n\t(No symbol) [0x00EB7FD1]\n\t(No symbol) [0x00DAD04D]\n\t(No symbol) [0x00D92D7A]\n\t(No symbol) [0x00DFBE7B]\n\t(No symbol) [0x00E0C196]\n\t(No symbol) [0x00DF8386]\n\t(No symbol) [0x00DD163C]\n\t(No symbol) [0x00DD269D]\n\tGetHandleVerifier [0x011C9A22+2655074]\n\tGetHandleVerifier [0x011BCA24+2601828]\n\tGetHandleVerifier [0x00FD8C0A+619850]\n\tGetHandleVerifier [0x00FD7830+614768]\n\t(No symbol) [0x00EC05FC]\n\t(No symbol) [0x00EC5968]\n\t(No symbol) [0x00EC5A55]\n\t(No symbol) [0x00ED051B]\n\tBaseThreadInitThunk [0x77377D69+25]\n\tRtlInitializeExceptionChain [0x77A2BB9B+107]\n\tRtlClearBits [0x77A2BB1F+191]\n",
     "output_type": "error",
     "traceback": [
      "\u001b[1;31m---------------------------------------------------------------------------\u001b[0m",
      "\u001b[1;31mNoSuchWindowException\u001b[0m                     Traceback (most recent call last)",
      "Input \u001b[1;32mIn [33]\u001b[0m, in \u001b[0;36m<module>\u001b[1;34m\u001b[0m\n\u001b[0;32m     46\u001b[0m search \u001b[38;5;241m=\u001b[39m WebDriverWait(driver,\u001b[38;5;241m15\u001b[39m)\u001b[38;5;241m.\u001b[39muntil(EC\u001b[38;5;241m.\u001b[39mpresence_of_element_located((By\u001b[38;5;241m.\u001b[39mXPATH, \u001b[38;5;124m'\u001b[39m\u001b[38;5;124m/html/body/div[1]/div[4]/aside/form/div/div[2]/div[1]/input\u001b[39m\u001b[38;5;124m'\u001b[39m)))\n\u001b[0;32m     47\u001b[0m search\u001b[38;5;241m.\u001b[39msend_keys(Keys\u001b[38;5;241m.\u001b[39mCONTROL,\u001b[38;5;124m\"\u001b[39m\u001b[38;5;124ma\u001b[39m\u001b[38;5;124m\"\u001b[39m)\n\u001b[1;32m---> 48\u001b[0m \u001b[43msearch\u001b[49m\u001b[38;5;241;43m.\u001b[39;49m\u001b[43msend_keys\u001b[49m\u001b[43m(\u001b[49m\u001b[43mKeys\u001b[49m\u001b[38;5;241;43m.\u001b[39;49m\u001b[43mBACKSPACE\u001b[49m\u001b[43m)\u001b[49m\n\u001b[0;32m     49\u001b[0m search\u001b[38;5;241m.\u001b[39msend_keys(key)\n\u001b[0;32m     50\u001b[0m search\u001b[38;5;241m.\u001b[39msend_keys(Keys\u001b[38;5;241m.\u001b[39mENTER)\n",
      "File \u001b[1;32m~\\AppData\\Local\\Programs\\Python\\Python310\\lib\\site-packages\\selenium\\webdriver\\remote\\webelement.py:233\u001b[0m, in \u001b[0;36mWebElement.send_keys\u001b[1;34m(self, *value)\u001b[0m\n\u001b[0;32m    230\u001b[0m             remote_files\u001b[38;5;241m.\u001b[39mappend(\u001b[38;5;28mself\u001b[39m\u001b[38;5;241m.\u001b[39m_upload(file))\n\u001b[0;32m    231\u001b[0m         value \u001b[38;5;241m=\u001b[39m \u001b[38;5;124m\"\u001b[39m\u001b[38;5;130;01m\\n\u001b[39;00m\u001b[38;5;124m\"\u001b[39m\u001b[38;5;241m.\u001b[39mjoin(remote_files)\n\u001b[1;32m--> 233\u001b[0m \u001b[38;5;28;43mself\u001b[39;49m\u001b[38;5;241;43m.\u001b[39;49m\u001b[43m_execute\u001b[49m\u001b[43m(\u001b[49m\n\u001b[0;32m    234\u001b[0m \u001b[43m    \u001b[49m\u001b[43mCommand\u001b[49m\u001b[38;5;241;43m.\u001b[39;49m\u001b[43mSEND_KEYS_TO_ELEMENT\u001b[49m\u001b[43m,\u001b[49m\u001b[43m \u001b[49m\u001b[43m{\u001b[49m\u001b[38;5;124;43m\"\u001b[39;49m\u001b[38;5;124;43mtext\u001b[39;49m\u001b[38;5;124;43m\"\u001b[39;49m\u001b[43m:\u001b[49m\u001b[43m \u001b[49m\u001b[38;5;124;43m\"\u001b[39;49m\u001b[38;5;124;43m\"\u001b[39;49m\u001b[38;5;241;43m.\u001b[39;49m\u001b[43mjoin\u001b[49m\u001b[43m(\u001b[49m\u001b[43mkeys_to_typing\u001b[49m\u001b[43m(\u001b[49m\u001b[43mvalue\u001b[49m\u001b[43m)\u001b[49m\u001b[43m)\u001b[49m\u001b[43m,\u001b[49m\u001b[43m \u001b[49m\u001b[38;5;124;43m\"\u001b[39;49m\u001b[38;5;124;43mvalue\u001b[39;49m\u001b[38;5;124;43m\"\u001b[39;49m\u001b[43m:\u001b[49m\u001b[43m \u001b[49m\u001b[43mkeys_to_typing\u001b[49m\u001b[43m(\u001b[49m\u001b[43mvalue\u001b[49m\u001b[43m)\u001b[49m\u001b[43m}\u001b[49m\n\u001b[0;32m    235\u001b[0m \u001b[43m\u001b[49m\u001b[43m)\u001b[49m\n",
      "File \u001b[1;32m~\\AppData\\Local\\Programs\\Python\\Python310\\lib\\site-packages\\selenium\\webdriver\\remote\\webelement.py:410\u001b[0m, in \u001b[0;36mWebElement._execute\u001b[1;34m(self, command, params)\u001b[0m\n\u001b[0;32m    408\u001b[0m     params \u001b[38;5;241m=\u001b[39m {}\n\u001b[0;32m    409\u001b[0m params[\u001b[38;5;124m\"\u001b[39m\u001b[38;5;124mid\u001b[39m\u001b[38;5;124m\"\u001b[39m] \u001b[38;5;241m=\u001b[39m \u001b[38;5;28mself\u001b[39m\u001b[38;5;241m.\u001b[39m_id\n\u001b[1;32m--> 410\u001b[0m \u001b[38;5;28;01mreturn\u001b[39;00m \u001b[38;5;28;43mself\u001b[39;49m\u001b[38;5;241;43m.\u001b[39;49m\u001b[43m_parent\u001b[49m\u001b[38;5;241;43m.\u001b[39;49m\u001b[43mexecute\u001b[49m\u001b[43m(\u001b[49m\u001b[43mcommand\u001b[49m\u001b[43m,\u001b[49m\u001b[43m \u001b[49m\u001b[43mparams\u001b[49m\u001b[43m)\u001b[49m\n",
      "File \u001b[1;32m~\\AppData\\Local\\Programs\\Python\\Python310\\lib\\site-packages\\selenium\\webdriver\\remote\\webdriver.py:444\u001b[0m, in \u001b[0;36mWebDriver.execute\u001b[1;34m(self, driver_command, params)\u001b[0m\n\u001b[0;32m    442\u001b[0m response \u001b[38;5;241m=\u001b[39m \u001b[38;5;28mself\u001b[39m\u001b[38;5;241m.\u001b[39mcommand_executor\u001b[38;5;241m.\u001b[39mexecute(driver_command, params)\n\u001b[0;32m    443\u001b[0m \u001b[38;5;28;01mif\u001b[39;00m response:\n\u001b[1;32m--> 444\u001b[0m     \u001b[38;5;28;43mself\u001b[39;49m\u001b[38;5;241;43m.\u001b[39;49m\u001b[43merror_handler\u001b[49m\u001b[38;5;241;43m.\u001b[39;49m\u001b[43mcheck_response\u001b[49m\u001b[43m(\u001b[49m\u001b[43mresponse\u001b[49m\u001b[43m)\u001b[49m\n\u001b[0;32m    445\u001b[0m     response[\u001b[38;5;124m\"\u001b[39m\u001b[38;5;124mvalue\u001b[39m\u001b[38;5;124m\"\u001b[39m] \u001b[38;5;241m=\u001b[39m \u001b[38;5;28mself\u001b[39m\u001b[38;5;241m.\u001b[39m_unwrap_value(response\u001b[38;5;241m.\u001b[39mget(\u001b[38;5;124m\"\u001b[39m\u001b[38;5;124mvalue\u001b[39m\u001b[38;5;124m\"\u001b[39m, \u001b[38;5;28;01mNone\u001b[39;00m))\n\u001b[0;32m    446\u001b[0m     \u001b[38;5;28;01mreturn\u001b[39;00m response\n",
      "File \u001b[1;32m~\\AppData\\Local\\Programs\\Python\\Python310\\lib\\site-packages\\selenium\\webdriver\\remote\\errorhandler.py:249\u001b[0m, in \u001b[0;36mErrorHandler.check_response\u001b[1;34m(self, response)\u001b[0m\n\u001b[0;32m    247\u001b[0m         alert_text \u001b[38;5;241m=\u001b[39m value[\u001b[38;5;124m\"\u001b[39m\u001b[38;5;124malert\u001b[39m\u001b[38;5;124m\"\u001b[39m]\u001b[38;5;241m.\u001b[39mget(\u001b[38;5;124m\"\u001b[39m\u001b[38;5;124mtext\u001b[39m\u001b[38;5;124m\"\u001b[39m)\n\u001b[0;32m    248\u001b[0m     \u001b[38;5;28;01mraise\u001b[39;00m exception_class(message, screen, stacktrace, alert_text)  \u001b[38;5;66;03m# type: ignore[call-arg]  # mypy is not smart enough here\u001b[39;00m\n\u001b[1;32m--> 249\u001b[0m \u001b[38;5;28;01mraise\u001b[39;00m exception_class(message, screen, stacktrace)\n",
      "\u001b[1;31mNoSuchWindowException\u001b[0m: Message: no such window: target window already closed\nfrom unknown error: web view not found\n  (Session info: chrome=108.0.5359.125)\nStacktrace:\nBacktrace:\n\t(No symbol) [0x00F2F243]\n\t(No symbol) [0x00EB7FD1]\n\t(No symbol) [0x00DAD04D]\n\t(No symbol) [0x00D92D7A]\n\t(No symbol) [0x00DFBE7B]\n\t(No symbol) [0x00E0C196]\n\t(No symbol) [0x00DF8386]\n\t(No symbol) [0x00DD163C]\n\t(No symbol) [0x00DD269D]\n\tGetHandleVerifier [0x011C9A22+2655074]\n\tGetHandleVerifier [0x011BCA24+2601828]\n\tGetHandleVerifier [0x00FD8C0A+619850]\n\tGetHandleVerifier [0x00FD7830+614768]\n\t(No symbol) [0x00EC05FC]\n\t(No symbol) [0x00EC5968]\n\t(No symbol) [0x00EC5A55]\n\t(No symbol) [0x00ED051B]\n\tBaseThreadInitThunk [0x77377D69+25]\n\tRtlInitializeExceptionChain [0x77A2BB9B+107]\n\tRtlClearBits [0x77A2BB1F+191]\n"
     ]
    }
   ],
   "source": [
    "from selenium.webdriver.chrome.options import Options\n",
    "from selenium.webdriver.support.ui import WebDriverWait\n",
    "from selenium.webdriver.support import expected_conditions as EC\n",
    "from selenium.webdriver.common.by import By\n",
    "from selenium import webdriver\n",
    "from selenium.webdriver.common.keys import Keys\n",
    "import datetime as dt\n",
    "import pandas as pd\n",
    "\n",
    "url = 'https://www.semrush.com/analytics/traffic/overview/?q=ebay.com&searchType=domain&highlightedQuery=ebay.com'\n",
    "driver = webdriver.Chrome(\"C:\\\\Users\\\\asus\\\\OneDrive\\\\Desktop\\\\Drivers\\\\chromedriver.exe\")\n",
    "driver.get(url)\n",
    "\n",
    "log = WebDriverWait(driver,15).until(EC.presence_of_element_located((By.XPATH, '/html/body/div[11]/div[3]/div[1]/div/div/div[2]/a/span')))\n",
    "log.click()\n",
    "iD = driver.find_element(By.XPATH,'/html/body/div[11]/div[3]/div[1]/div/div/form/div/div[1]/div/input')\n",
    "pswd = driver.find_element(By.XPATH,'/html/body/div[11]/div[3]/div[1]/div/div/form/div/div[2]/div/input')\n",
    "iD.send_keys('faisalk3996@gmail.com')\n",
    "pswd.send_keys('notanintern@789')\n",
    "driver.find_element(By.XPATH,'/html/body/div[11]/div[3]/div[1]/div/div/form/div/button/span').click()\n",
    "\n",
    "Visits = []\n",
    "U_visits = []\n",
    "pagespervisit = []\n",
    "Duration = []\n",
    "bounce_rate = []\n",
    "\n",
    "search = WebDriverWait(driver,15).until(EC.presence_of_element_located((By.XPATH, '/html/body/div[1]/div[4]/aside/form/div/div[2]/div[1]/input')))\n",
    "df = pd.read_csv('C:\\\\Users\\\\asus\\\\OneDrive\\\\Desktop\\\\SEM RUSH SCRAPING\\\\Competion.csv.xls')\n",
    "for key in df['Domain']:\n",
    "    try:\n",
    "        visit = WebDriverWait(driver,15).until(EC.presence_of_element_located((By.XPATH,'/html/body/div[1]/main/div[1]/div[2]/div[2]/div/div[3]/div[1]/div/div/div[1]/div[1]/div[2]/span/span'))).text\n",
    "        U_visit = driver.find_element(By.XPATH,'/html/body/div[1]/main/div[1]/div[2]/div[2]/div/div[3]/div[1]/div/div/div[1]/div[3]/div[2]/span/span/a/span/span').text\n",
    "        P_P_visit = driver.find_element(By.XPATH,'/html/body/div[1]/main/div[1]/div[2]/div[2]/div/div[3]/div[1]/div/div/div[1]/div[5]/div[2]/span/span').text\n",
    "        duration = driver.find_element(By.XPATH,'/html/body/div[1]/main/div[1]/div[2]/div[2]/div/div[3]/div[1]/div/div/div[1]/div[7]/div[2]/span/span').text\n",
    "        bounce = driver.find_element(By.XPATH,'/html/body/div[1]/main/div[1]/div[2]/div[2]/div/div[3]/div[1]/div/div/div[1]/div[1]/div[2]/span/span').text\n",
    "    except:\n",
    "        pass\n",
    "    \n",
    "    Visits.append(visit)\n",
    "    U_visits.append(U_visit)\n",
    "    pagespervisit.append(P_P_visit)\n",
    "    Duration.append(duration)\n",
    "    bounce_rate.append(bounce)\n",
    "    \n",
    "    search = WebDriverWait(driver,15).until(EC.presence_of_element_located((By.XPATH, '/html/body/div[1]/div[4]/aside/form/div/div[2]/div[1]/input')))\n",
    "    search.send_keys(Keys.CONTROL,\"a\")\n",
    "    search.send_keys(Keys.BACKSPACE)\n",
    "    search.send_keys(key)\n",
    "    search.send_keys(Keys.ENTER)\n",
    "    \n",
    "Traffic_analysis = pd.DataFrame({'Visits':Visits,'Unique Visits':U_visits,'Pages/view':pagespervisit,'Diration':Duration,'Bounce Rate':bounce_rate})"
   ]
  },
  {
   "cell_type": "code",
   "execution_count": null,
   "id": "dc8d89e7",
   "metadata": {},
   "outputs": [],
   "source": [
    "Traffic_analysis.to_csv(\"Traffic Analaysis.csv\")"
   ]
  },
  {
   "cell_type": "markdown",
   "id": "60c0f31d",
   "metadata": {},
   "source": [
    "## Login Script"
   ]
  },
  {
   "cell_type": "code",
   "execution_count": 39,
   "id": "33cc19d7",
   "metadata": {},
   "outputs": [
    {
     "name": "stderr",
     "output_type": "stream",
     "text": [
      "C:\\Users\\asus\\AppData\\Local\\Temp\\ipykernel_42584\\3825885247.py:3: DeprecationWarning: executable_path has been deprecated, please pass in a Service object\n",
      "  driver = webdriver.Chrome(\"C:\\\\Users\\\\asus\\\\OneDrive\\\\Desktop\\\\Drivers\\\\chromedriver.exe\")\n"
     ]
    }
   ],
   "source": [
    "import time\n",
    "url = 'https://www.semrush.com/analytics/traffic/overview/?q=ebay.com&searchType=domain&highlightedQuery=ebay.com'\n",
    "driver = webdriver.Chrome(\"C:\\\\Users\\\\asus\\\\OneDrive\\\\Desktop\\\\Drivers\\\\chromedriver.exe\")\n",
    "driver.get(url)\n",
    "time.sleep(3)\n",
    "login=driver.find_element(by='xpath',value =\"//a[@data-test-tfc='switch-to-login-text-with-link']/span\")\n",
    "login.click()\n",
    "login_email = driver.find_element(by ='xpath',value=\"//input[@type='email']\")\n",
    "login_password= driver.find_element(by='xpath',value =\"//input[@type='password']\")\n",
    "login_email.send_keys(\"reyanabidin169@gmail.com\")\n",
    "login_password.send_keys(\"Reyanabidin786\")\n",
    "submit=driver.find_element(by=\"xpath\",value =\"//button[@data-test='sso-limit-popup-login-submit']\").click()\n"
   ]
  },
  {
   "cell_type": "markdown",
   "id": "55ed7ec6",
   "metadata": {},
   "source": [
    "# Scraping the data from sem rush\n"
   ]
  },
  {
   "cell_type": "code",
   "execution_count": 28,
   "id": "8aef6af4",
   "metadata": {},
   "outputs": [],
   "source": [
    "import os\n"
   ]
  },
  {
   "cell_type": "code",
   "execution_count": 3,
   "id": "b114a85c",
   "metadata": {},
   "outputs": [],
   "source": [
    "import pandas as pd"
   ]
  },
  {
   "cell_type": "code",
   "execution_count": 4,
   "id": "2a448304",
   "metadata": {},
   "outputs": [],
   "source": [
    "import numpy as np"
   ]
  },
  {
   "cell_type": "code",
   "execution_count": 5,
   "id": "b373eac7",
   "metadata": {},
   "outputs": [],
   "source": [
    "import selenium "
   ]
  },
  {
   "cell_type": "code",
   "execution_count": 6,
   "id": "9e2dbac5",
   "metadata": {},
   "outputs": [],
   "source": [
    "from bs4 import BeautifulSoup"
   ]
  },
  {
   "cell_type": "code",
   "execution_count": 7,
   "id": "fc74501c",
   "metadata": {},
   "outputs": [],
   "source": [
    "from selenium import webdriver \n"
   ]
  },
  {
   "cell_type": "code",
   "execution_count": 10,
   "id": "f767f5f3",
   "metadata": {},
   "outputs": [],
   "source": [
    "from selenium.webdriver.common.keys import Keys "
   ]
  },
  {
   "cell_type": "code",
   "execution_count": 27,
   "id": "d632d626",
   "metadata": {},
   "outputs": [
    {
     "ename": "UnicodeDecodeError",
     "evalue": "'utf-8' codec can't decode byte 0xe9 in position 28138: invalid continuation byte",
     "output_type": "error",
     "traceback": [
      "\u001b[1;31m---------------------------------------------------------------------------\u001b[0m",
      "\u001b[1;31mUnicodeDecodeError\u001b[0m                        Traceback (most recent call last)",
      "Input \u001b[1;32mIn [27]\u001b[0m, in \u001b[0;36m<module>\u001b[1;34m\u001b[0m\n\u001b[1;32m----> 1\u001b[0m companies\u001b[38;5;241m=\u001b[39m\u001b[43mpd\u001b[49m\u001b[38;5;241;43m.\u001b[39;49m\u001b[43mread_csv\u001b[49m\u001b[43m(\u001b[49m\u001b[38;5;124;43m\"\u001b[39;49m\u001b[38;5;124;43mC:\u001b[39;49m\u001b[38;5;130;43;01m\\\\\u001b[39;49;00m\u001b[38;5;124;43mUsers\u001b[39;49m\u001b[38;5;130;43;01m\\\\\u001b[39;49;00m\u001b[38;5;124;43masus\u001b[39;49m\u001b[38;5;130;43;01m\\\\\u001b[39;49;00m\u001b[38;5;124;43mOneDrive\u001b[39;49m\u001b[38;5;130;43;01m\\\\\u001b[39;49;00m\u001b[38;5;124;43mDesktop\u001b[39;49m\u001b[38;5;130;43;01m\\\\\u001b[39;49;00m\u001b[38;5;124;43mSEM RUSH SCRAPING\u001b[39;49m\u001b[38;5;130;43;01m\\\\\u001b[39;49;00m\u001b[38;5;124;43mcompanies.csv\u001b[39;49m\u001b[38;5;124;43m\"\u001b[39;49m\u001b[43m)\u001b[49m\n",
      "File \u001b[1;32m~\\AppData\\Local\\Programs\\Python\\Python310\\lib\\site-packages\\pandas\\util\\_decorators.py:311\u001b[0m, in \u001b[0;36mdeprecate_nonkeyword_arguments.<locals>.decorate.<locals>.wrapper\u001b[1;34m(*args, **kwargs)\u001b[0m\n\u001b[0;32m    305\u001b[0m \u001b[38;5;28;01mif\u001b[39;00m \u001b[38;5;28mlen\u001b[39m(args) \u001b[38;5;241m>\u001b[39m num_allow_args:\n\u001b[0;32m    306\u001b[0m     warnings\u001b[38;5;241m.\u001b[39mwarn(\n\u001b[0;32m    307\u001b[0m         msg\u001b[38;5;241m.\u001b[39mformat(arguments\u001b[38;5;241m=\u001b[39marguments),\n\u001b[0;32m    308\u001b[0m         \u001b[38;5;167;01mFutureWarning\u001b[39;00m,\n\u001b[0;32m    309\u001b[0m         stacklevel\u001b[38;5;241m=\u001b[39mstacklevel,\n\u001b[0;32m    310\u001b[0m     )\n\u001b[1;32m--> 311\u001b[0m \u001b[38;5;28;01mreturn\u001b[39;00m func(\u001b[38;5;241m*\u001b[39margs, \u001b[38;5;241m*\u001b[39m\u001b[38;5;241m*\u001b[39mkwargs)\n",
      "File \u001b[1;32m~\\AppData\\Local\\Programs\\Python\\Python310\\lib\\site-packages\\pandas\\io\\parsers\\readers.py:680\u001b[0m, in \u001b[0;36mread_csv\u001b[1;34m(filepath_or_buffer, sep, delimiter, header, names, index_col, usecols, squeeze, prefix, mangle_dupe_cols, dtype, engine, converters, true_values, false_values, skipinitialspace, skiprows, skipfooter, nrows, na_values, keep_default_na, na_filter, verbose, skip_blank_lines, parse_dates, infer_datetime_format, keep_date_col, date_parser, dayfirst, cache_dates, iterator, chunksize, compression, thousands, decimal, lineterminator, quotechar, quoting, doublequote, escapechar, comment, encoding, encoding_errors, dialect, error_bad_lines, warn_bad_lines, on_bad_lines, delim_whitespace, low_memory, memory_map, float_precision, storage_options)\u001b[0m\n\u001b[0;32m    665\u001b[0m kwds_defaults \u001b[38;5;241m=\u001b[39m _refine_defaults_read(\n\u001b[0;32m    666\u001b[0m     dialect,\n\u001b[0;32m    667\u001b[0m     delimiter,\n\u001b[1;32m   (...)\u001b[0m\n\u001b[0;32m    676\u001b[0m     defaults\u001b[38;5;241m=\u001b[39m{\u001b[38;5;124m\"\u001b[39m\u001b[38;5;124mdelimiter\u001b[39m\u001b[38;5;124m\"\u001b[39m: \u001b[38;5;124m\"\u001b[39m\u001b[38;5;124m,\u001b[39m\u001b[38;5;124m\"\u001b[39m},\n\u001b[0;32m    677\u001b[0m )\n\u001b[0;32m    678\u001b[0m kwds\u001b[38;5;241m.\u001b[39mupdate(kwds_defaults)\n\u001b[1;32m--> 680\u001b[0m \u001b[38;5;28;01mreturn\u001b[39;00m \u001b[43m_read\u001b[49m\u001b[43m(\u001b[49m\u001b[43mfilepath_or_buffer\u001b[49m\u001b[43m,\u001b[49m\u001b[43m \u001b[49m\u001b[43mkwds\u001b[49m\u001b[43m)\u001b[49m\n",
      "File \u001b[1;32m~\\AppData\\Local\\Programs\\Python\\Python310\\lib\\site-packages\\pandas\\io\\parsers\\readers.py:575\u001b[0m, in \u001b[0;36m_read\u001b[1;34m(filepath_or_buffer, kwds)\u001b[0m\n\u001b[0;32m    572\u001b[0m _validate_names(kwds\u001b[38;5;241m.\u001b[39mget(\u001b[38;5;124m\"\u001b[39m\u001b[38;5;124mnames\u001b[39m\u001b[38;5;124m\"\u001b[39m, \u001b[38;5;28;01mNone\u001b[39;00m))\n\u001b[0;32m    574\u001b[0m \u001b[38;5;66;03m# Create the parser.\u001b[39;00m\n\u001b[1;32m--> 575\u001b[0m parser \u001b[38;5;241m=\u001b[39m TextFileReader(filepath_or_buffer, \u001b[38;5;241m*\u001b[39m\u001b[38;5;241m*\u001b[39mkwds)\n\u001b[0;32m    577\u001b[0m \u001b[38;5;28;01mif\u001b[39;00m chunksize \u001b[38;5;129;01mor\u001b[39;00m iterator:\n\u001b[0;32m    578\u001b[0m     \u001b[38;5;28;01mreturn\u001b[39;00m parser\n",
      "File \u001b[1;32m~\\AppData\\Local\\Programs\\Python\\Python310\\lib\\site-packages\\pandas\\io\\parsers\\readers.py:933\u001b[0m, in \u001b[0;36mTextFileReader.__init__\u001b[1;34m(self, f, engine, **kwds)\u001b[0m\n\u001b[0;32m    930\u001b[0m     \u001b[38;5;28mself\u001b[39m\u001b[38;5;241m.\u001b[39moptions[\u001b[38;5;124m\"\u001b[39m\u001b[38;5;124mhas_index_names\u001b[39m\u001b[38;5;124m\"\u001b[39m] \u001b[38;5;241m=\u001b[39m kwds[\u001b[38;5;124m\"\u001b[39m\u001b[38;5;124mhas_index_names\u001b[39m\u001b[38;5;124m\"\u001b[39m]\n\u001b[0;32m    932\u001b[0m \u001b[38;5;28mself\u001b[39m\u001b[38;5;241m.\u001b[39mhandles: IOHandles \u001b[38;5;241m|\u001b[39m \u001b[38;5;28;01mNone\u001b[39;00m \u001b[38;5;241m=\u001b[39m \u001b[38;5;28;01mNone\u001b[39;00m\n\u001b[1;32m--> 933\u001b[0m \u001b[38;5;28mself\u001b[39m\u001b[38;5;241m.\u001b[39m_engine \u001b[38;5;241m=\u001b[39m \u001b[38;5;28;43mself\u001b[39;49m\u001b[38;5;241;43m.\u001b[39;49m\u001b[43m_make_engine\u001b[49m\u001b[43m(\u001b[49m\u001b[43mf\u001b[49m\u001b[43m,\u001b[49m\u001b[43m \u001b[49m\u001b[38;5;28;43mself\u001b[39;49m\u001b[38;5;241;43m.\u001b[39;49m\u001b[43mengine\u001b[49m\u001b[43m)\u001b[49m\n",
      "File \u001b[1;32m~\\AppData\\Local\\Programs\\Python\\Python310\\lib\\site-packages\\pandas\\io\\parsers\\readers.py:1231\u001b[0m, in \u001b[0;36mTextFileReader._make_engine\u001b[1;34m(self, f, engine)\u001b[0m\n\u001b[0;32m   1228\u001b[0m     f \u001b[38;5;241m=\u001b[39m \u001b[38;5;28mself\u001b[39m\u001b[38;5;241m.\u001b[39mhandles\u001b[38;5;241m.\u001b[39mhandle\n\u001b[0;32m   1230\u001b[0m \u001b[38;5;28;01mtry\u001b[39;00m:\n\u001b[1;32m-> 1231\u001b[0m     \u001b[38;5;28;01mreturn\u001b[39;00m mapping[engine](f, \u001b[38;5;241m*\u001b[39m\u001b[38;5;241m*\u001b[39m\u001b[38;5;28mself\u001b[39m\u001b[38;5;241m.\u001b[39moptions)\n\u001b[0;32m   1232\u001b[0m \u001b[38;5;28;01mexcept\u001b[39;00m \u001b[38;5;167;01mException\u001b[39;00m:\n\u001b[0;32m   1233\u001b[0m     \u001b[38;5;28;01mif\u001b[39;00m \u001b[38;5;28mself\u001b[39m\u001b[38;5;241m.\u001b[39mhandles \u001b[38;5;129;01mis\u001b[39;00m \u001b[38;5;129;01mnot\u001b[39;00m \u001b[38;5;28;01mNone\u001b[39;00m:\n",
      "File \u001b[1;32m~\\AppData\\Local\\Programs\\Python\\Python310\\lib\\site-packages\\pandas\\io\\parsers\\c_parser_wrapper.py:75\u001b[0m, in \u001b[0;36mCParserWrapper.__init__\u001b[1;34m(self, src, **kwds)\u001b[0m\n\u001b[0;32m     72\u001b[0m     kwds\u001b[38;5;241m.\u001b[39mpop(key, \u001b[38;5;28;01mNone\u001b[39;00m)\n\u001b[0;32m     74\u001b[0m kwds[\u001b[38;5;124m\"\u001b[39m\u001b[38;5;124mdtype\u001b[39m\u001b[38;5;124m\"\u001b[39m] \u001b[38;5;241m=\u001b[39m ensure_dtype_objs(kwds\u001b[38;5;241m.\u001b[39mget(\u001b[38;5;124m\"\u001b[39m\u001b[38;5;124mdtype\u001b[39m\u001b[38;5;124m\"\u001b[39m, \u001b[38;5;28;01mNone\u001b[39;00m))\n\u001b[1;32m---> 75\u001b[0m \u001b[38;5;28mself\u001b[39m\u001b[38;5;241m.\u001b[39m_reader \u001b[38;5;241m=\u001b[39m parsers\u001b[38;5;241m.\u001b[39mTextReader(src, \u001b[38;5;241m*\u001b[39m\u001b[38;5;241m*\u001b[39mkwds)\n\u001b[0;32m     77\u001b[0m \u001b[38;5;28mself\u001b[39m\u001b[38;5;241m.\u001b[39munnamed_cols \u001b[38;5;241m=\u001b[39m \u001b[38;5;28mself\u001b[39m\u001b[38;5;241m.\u001b[39m_reader\u001b[38;5;241m.\u001b[39munnamed_cols\n\u001b[0;32m     79\u001b[0m \u001b[38;5;66;03m# error: Cannot determine type of 'names'\u001b[39;00m\n",
      "File \u001b[1;32m~\\AppData\\Local\\Programs\\Python\\Python310\\lib\\site-packages\\pandas\\_libs\\parsers.pyx:544\u001b[0m, in \u001b[0;36mpandas._libs.parsers.TextReader.__cinit__\u001b[1;34m()\u001b[0m\n",
      "File \u001b[1;32m~\\AppData\\Local\\Programs\\Python\\Python310\\lib\\site-packages\\pandas\\_libs\\parsers.pyx:633\u001b[0m, in \u001b[0;36mpandas._libs.parsers.TextReader._get_header\u001b[1;34m()\u001b[0m\n",
      "File \u001b[1;32m~\\AppData\\Local\\Programs\\Python\\Python310\\lib\\site-packages\\pandas\\_libs\\parsers.pyx:847\u001b[0m, in \u001b[0;36mpandas._libs.parsers.TextReader._tokenize_rows\u001b[1;34m()\u001b[0m\n",
      "File \u001b[1;32m~\\AppData\\Local\\Programs\\Python\\Python310\\lib\\site-packages\\pandas\\_libs\\parsers.pyx:1952\u001b[0m, in \u001b[0;36mpandas._libs.parsers.raise_parser_error\u001b[1;34m()\u001b[0m\n",
      "\u001b[1;31mUnicodeDecodeError\u001b[0m: 'utf-8' codec can't decode byte 0xe9 in position 28138: invalid continuation byte"
     ]
    }
   ],
   "source": [
    "companies=pd.read_csv(\"C:\\\\Users\\\\asus\\\\OneDrive\\\\Desktop\\\\SEM RUSH SCRAPING\\\\companies.csv\")"
   ]
  },
  {
   "cell_type": "code",
   "execution_count": null,
   "id": "83dda91a",
   "metadata": {},
   "outputs": [],
   "source": []
  }
 ],
 "metadata": {
  "kernelspec": {
   "display_name": "Python 3",
   "language": "python",
   "name": "python3"
  },
  "language_info": {
   "codemirror_mode": {
    "name": "ipython",
    "version": 3
   },
   "file_extension": ".py",
   "mimetype": "text/x-python",
   "name": "python",
   "nbconvert_exporter": "python",
   "pygments_lexer": "ipython3",
   "version": "3.10.7"
  }
 },
 "nbformat": 4,
 "nbformat_minor": 5
}
