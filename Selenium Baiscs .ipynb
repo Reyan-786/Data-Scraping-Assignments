{
 "cells": [
  {
   "cell_type": "markdown",
   "id": "da5dc717",
   "metadata": {},
   "source": [
    "## importing selenium \n"
   ]
  },
  {
   "cell_type": "code",
   "execution_count": 9,
   "id": "cbbdafc4",
   "metadata": {},
   "outputs": [
    {
     "name": "stderr",
     "output_type": "stream",
     "text": [
      "C:\\Users\\asus\\AppData\\Local\\Temp\\ipykernel_9640\\1565996538.py:2: DeprecationWarning: executable_path has been deprecated, please pass in a Service object\n",
      "  driver = webdriver.Chrome('C:/Users/asus/OneDrive/Desktop/Drivers/chromedriver.exe')\n"
     ]
    }
   ],
   "source": [
    "from selenium import webdriver \n",
    "driver = webdriver.Chrome('C:/Users/asus/OneDrive/Desktop/Drivers/chromedriver.exe')\n",
    "driver.get('https://www.google.com/')"
   ]
  },
  {
   "cell_type": "code",
   "execution_count": 10,
   "id": "89297f7f",
   "metadata": {
    "scrolled": false
   },
   "outputs": [
    {
     "data": {
      "text/plain": [
       "'list=[]\\nfor i in range(1,30):\\n    try:\\n        price = driver.find_element(by = \"xpath\",value =\\'//*[@id=\"grid-body\"]/div/div[1]/div[\\'+str(i)+\\']/a/div[1]/div[2]/div/div/span\\').text\\n        list.append(price)\\n    except:\\n        print(\"all shoes visited at index value \",i)\\n        break'"
      ]
     },
     "execution_count": 10,
     "metadata": {},
     "output_type": "execute_result"
    }
   ],
   "source": [
    "'''list=[]\n",
    "for i in range(1,30):\n",
    "    try:\n",
    "        price = driver.find_element(by = \"xpath\",value ='//*[@id=\"grid-body\"]/div/div[1]/div['+str(i)+']/a/div[1]/div[2]/div/div/span').text\n",
    "        list.append(price)\n",
    "    except:\n",
    "        print(\"all shoes visited at index value \",i)\n",
    "        break'''"
   ]
  },
  {
   "cell_type": "markdown",
   "id": "c258da40",
   "metadata": {},
   "source": [
    "## Clicking a button...\n"
   ]
  },
  {
   "cell_type": "code",
   "execution_count": 11,
   "id": "e9e63e2b",
   "metadata": {},
   "outputs": [],
   "source": [
    "from selenium.webdriver.common.keys import Keys"
   ]
  },
  {
   "cell_type": "code",
   "execution_count": 12,
   "id": "2a039166",
   "metadata": {},
   "outputs": [],
   "source": [
    "box= driver.find_element(by = 'xpath',value='/html/body/div[1]/div[3]/form/div[1]/div[1]/div[1]/div/div[2]/input')"
   ]
  },
  {
   "cell_type": "markdown",
   "id": "ded684a0",
   "metadata": {},
   "source": [
    "# Sending text to box \n",
    "* clicking on the google search button using .click() method "
   ]
  },
  {
   "cell_type": "code",
   "execution_count": 13,
   "id": "f1c9b0bb",
   "metadata": {},
   "outputs": [],
   "source": [
    "box.send_keys('web scraping')\n",
    "box.send_keys(Keys.ENTER)\n",
    "# button = driver.find_element(by = 'xpath',value= '/html/body/div[1]/div[3]/form/div[1]/div[1]/div[4]/center/input[2]')\n",
    "# button.click()\n"
   ]
  },
  {
   "cell_type": "code",
   "execution_count": 14,
   "id": "d8b19601",
   "metadata": {},
   "outputs": [],
   "source": [
    "link = driver.find_element(by  = 'xpath',value = '//*[@id=\"rso\"]/div[3]/div/div/div[1]/div/a/h3')"
   ]
  },
  {
   "cell_type": "code",
   "execution_count": 15,
   "id": "17bcd5e7",
   "metadata": {},
   "outputs": [],
   "source": [
    "link.click()"
   ]
  },
  {
   "cell_type": "code",
   "execution_count": 16,
   "id": "595bf9d8",
   "metadata": {},
   "outputs": [],
   "source": [
    "data= driver.find_element(by = 'xpath',value = '//*[@id=\"mw-content-text\"]/div[1]/p[1]/a[1]')\n",
    "data.click()"
   ]
  },
  {
   "cell_type": "markdown",
   "id": "4fac14e2",
   "metadata": {},
   "source": [
    "# Taking ScreenShots "
   ]
  },
  {
   "cell_type": "code",
   "execution_count": 17,
   "id": "968b1950",
   "metadata": {},
   "outputs": [],
   "source": [
    "import os \n",
    "os.chdir ('C:\\\\Users\\\\asus\\\\OneDrive\\\\Desktop\\\\UDEMY_DATA_SCRAPING_CHRISTOPHER_ZITA')\n",
    "screenshot = driver.save_screenshot('data scraping.png')"
   ]
  },
  {
   "cell_type": "code",
   "execution_count": 18,
   "id": "3f18686d",
   "metadata": {},
   "outputs": [],
   "source": [
    "# driver.find_element(by = 'xpath',value = '//*[@id=\"rso\"]/div[1]/div/div/div/div[1]/div/a/h3').screenshot('particular screenshot gfg.png')"
   ]
  },
  {
   "cell_type": "code",
   "execution_count": 19,
   "id": "1ee51a3d",
   "metadata": {},
   "outputs": [],
   "source": [
    "# driver.find_element(by = 'xpath',value ='//*[@id=\"hdtb-msb\"]/div[1]/div/div[2]/a')"
   ]
  },
  {
   "cell_type": "code",
   "execution_count": 20,
   "id": "8f661ba8",
   "metadata": {},
   "outputs": [],
   "source": [
    "# driver.find_element(by='xpath',value='//*[@id=\"islrg\"]/div[1]/div[3]/a[1]/div[1]/img').screenshot('giraffe.png')"
   ]
  },
  {
   "cell_type": "markdown",
   "id": "2fb99467",
   "metadata": {},
   "source": [
    "## Entire Process of Screenshoting an image \n"
   ]
  },
  {
   "cell_type": "code",
   "execution_count": 21,
   "id": "7912bccc",
   "metadata": {},
   "outputs": [
    {
     "name": "stderr",
     "output_type": "stream",
     "text": [
      "C:\\Users\\asus\\AppData\\Local\\Temp\\ipykernel_9640\\2359834912.py:1: DeprecationWarning: executable_path has been deprecated, please pass in a Service object\n",
      "  driver = webdriver.Chrome('C:/Users/asus/OneDrive/Desktop/Drivers/chromedriver.exe')\n"
     ]
    }
   ],
   "source": [
    "driver = webdriver.Chrome('C:/Users/asus/OneDrive/Desktop/Drivers/chromedriver.exe')\n",
    "driver.get('https://www.google.com/')"
   ]
  },
  {
   "cell_type": "code",
   "execution_count": 22,
   "id": "f2d09644",
   "metadata": {},
   "outputs": [],
   "source": [
    "box2=driver.find_element(by='xpath',value = '/html/body/div[1]/div[3]/form/div[1]/div[1]/div[1]/div/div[2]/input')\n",
    "box2.send_keys('giraffe')\n",
    "box2.send_keys(Keys.ENTER)"
   ]
  },
  {
   "cell_type": "code",
   "execution_count": 23,
   "id": "dd08ec89",
   "metadata": {},
   "outputs": [],
   "source": [
    "link2image = driver.find_element(by= 'xpath',value='//*[@id=\"hdtb-msb\"]/div[1]/div/div[2]/a').click()"
   ]
  },
  {
   "cell_type": "code",
   "execution_count": 24,
   "id": "68e3a797",
   "metadata": {},
   "outputs": [],
   "source": [
    "import os\n",
    "os.chdir('C:\\\\Users\\\\asus\\\\OneDrive\\\\Desktop\\\\UDEMY_DATA_SCRAPING_CHRISTOPHER_ZITA')"
   ]
  },
  {
   "cell_type": "code",
   "execution_count": 25,
   "id": "b16c3119",
   "metadata": {},
   "outputs": [
    {
     "data": {
      "text/plain": [
       "True"
      ]
     },
     "execution_count": 25,
     "metadata": {},
     "output_type": "execute_result"
    }
   ],
   "source": [
    "driver.find_element(by='xpath',value='//*[@id=\"islrg\"]/div[1]/div[2]/a[1]/div[1]/img').screenshot('giraffe2.png')"
   ]
  },
  {
   "cell_type": "markdown",
   "id": "1d4aeb33",
   "metadata": {},
   "source": [
    "# SELF SCROLLING USING SELENIUM \n"
   ]
  },
  {
   "cell_type": "code",
   "execution_count": 26,
   "id": "dffc21fb",
   "metadata": {},
   "outputs": [
    {
     "name": "stderr",
     "output_type": "stream",
     "text": [
      "C:\\Users\\asus\\AppData\\Local\\Temp\\ipykernel_9640\\2359834912.py:1: DeprecationWarning: executable_path has been deprecated, please pass in a Service object\n",
      "  driver = webdriver.Chrome('C:/Users/asus/OneDrive/Desktop/Drivers/chromedriver.exe')\n"
     ]
    }
   ],
   "source": [
    "driver = webdriver.Chrome('C:/Users/asus/OneDrive/Desktop/Drivers/chromedriver.exe')\n",
    "driver.get('https://www.google.com/')"
   ]
  },
  {
   "cell_type": "code",
   "execution_count": 27,
   "id": "61e8cf3b",
   "metadata": {},
   "outputs": [],
   "source": [
    "box2=driver.find_element(by='xpath',value = '/html/body/div[1]/div[3]/form/div[1]/div[1]/div[1]/div/div[2]/input')\n",
    "box2.send_keys('giraffe')\n",
    "box2.send_keys(Keys.ENTER)\n"
   ]
  },
  {
   "cell_type": "code",
   "execution_count": 28,
   "id": "8338976e",
   "metadata": {},
   "outputs": [],
   "source": [
    "link2image = driver.find_element(by= 'xpath',value='//*[@id=\"hdtb-msb\"]/div[1]/div/div[2]/a').click()"
   ]
  },
  {
   "cell_type": "code",
   "execution_count": 29,
   "id": "4ebcba7b",
   "metadata": {},
   "outputs": [
    {
     "data": {
      "text/plain": [
       "3028"
      ]
     },
     "execution_count": 29,
     "metadata": {},
     "output_type": "execute_result"
    }
   ],
   "source": [
    "driver.execute_script('return document.body.scrollHeight')"
   ]
  },
  {
   "cell_type": "code",
   "execution_count": 30,
   "id": "89a61193",
   "metadata": {},
   "outputs": [],
   "source": [
    "# while True :\n",
    "#     driver.execute_script('window.scrollTo(0,document.body.scrollHeight)')\n",
    "# srolls till the very end of the page "
   ]
  },
  {
   "cell_type": "markdown",
   "id": "5f469627",
   "metadata": {},
   "source": [
    "# Wait times in Selenium"
   ]
  },
  {
   "cell_type": "code",
   "execution_count": 31,
   "id": "4e20c982",
   "metadata": {},
   "outputs": [],
   "source": [
    "from selenium.webdriver.common.by import By"
   ]
  },
  {
   "cell_type": "code",
   "execution_count": 32,
   "id": "8a9b10d7",
   "metadata": {},
   "outputs": [],
   "source": [
    "from selenium.webdriver.support.ui import WebDriverWait"
   ]
  },
  {
   "cell_type": "code",
   "execution_count": 33,
   "id": "17f10bc6",
   "metadata": {},
   "outputs": [],
   "source": [
    "from selenium.webdriver.support import expected_conditions as EC"
   ]
  },
  {
   "cell_type": "markdown",
   "id": "47973ded",
   "metadata": {},
   "source": [
    "## Implementation of the wait time function"
   ]
  },
  {
   "cell_type": "code",
   "execution_count": 35,
   "id": "2c32404f",
   "metadata": {},
   "outputs": [
    {
     "name": "stderr",
     "output_type": "stream",
     "text": [
      "C:\\Users\\asus\\AppData\\Local\\Temp\\ipykernel_9640\\751951557.py:1: DeprecationWarning: executable_path has been deprecated, please pass in a Service object\n",
      "  driver = webdriver.Chrome('C:/Users/asus/OneDrive/Desktop/Drivers/chromedriver.exe')\n"
     ]
    }
   ],
   "source": [
    "driver = webdriver.Chrome('C:/Users/asus/OneDrive/Desktop/Drivers/chromedriver.exe')\n",
    "driver.get('https://www.google.com/')\n",
    "box2=driver.find_element(by='xpath',value = '/html/body/div[1]/div[3]/form/div[1]/div[1]/div[1]/div/div[2]/input')\n",
    "box2.send_keys('giraffe')\n",
    "box2.send_keys(Keys.ENTER)\n",
    "element = WebDriverWait(driver,10).until(\n",
    "EC.presence_of_element_located((By.ID,'cnt')))\n",
    "link2image = driver.find_element(by= 'xpath',value='//*[@id=\"hdtb-msb\"]/div[1]/div/div[2]/a').click()\n",
    "''' actual implementation of WAIT TIMES IN SELENIUM''' \n",
    "''' we set the wait time after sending in the keys giraffe and press enter\n",
    "then it waits 10 seconds or until it has found the passed element i.e'cnt' \n",
    "and then executes the rest of the script'''"
   ]
  },
  {
   "cell_type": "markdown",
   "id": "2e4b1942",
   "metadata": {},
   "source": [
    "### Another Implementation of the same(EASIER....)"
   ]
  },
  {
   "cell_type": "code",
   "execution_count": 37,
   "id": "e08ff963",
   "metadata": {},
   "outputs": [
    {
     "name": "stderr",
     "output_type": "stream",
     "text": [
      "C:\\Users\\asus\\AppData\\Local\\Temp\\ipykernel_9640\\10149251.py:2: DeprecationWarning: executable_path has been deprecated, please pass in a Service object\n",
      "  driver = webdriver.Chrome('C:/Users/asus/OneDrive/Desktop/Drivers/chromedriver.exe')\n"
     ]
    }
   ],
   "source": [
    "import time\n",
    "driver = webdriver.Chrome('C:/Users/asus/OneDrive/Desktop/Drivers/chromedriver.exe')\n",
    "driver.get('https://www.google.com/')\n",
    "box2=driver.find_element(by='xpath',value = '/html/body/div[1]/div[3]/form/div[1]/div[1]/div[1]/div/div[2]/input')\n",
    "box2.send_keys('giraffe')\n",
    "box2.send_keys(Keys.ENTER)\n",
    "time.sleep(3)  ###WE JUST ADD THIS time.sleep() METHOD\n",
    "link2image = driver.find_element(by= 'xpath',value='//*[@id=\"hdtb-msb\"]/div[1]/div/div[2]/a').click()"
   ]
  },
  {
   "cell_type": "code",
   "execution_count": null,
   "id": "121da7ac",
   "metadata": {},
   "outputs": [],
   "source": []
  }
 ],
 "metadata": {
  "kernelspec": {
   "display_name": "Python 3",
   "language": "python",
   "name": "python3"
  },
  "language_info": {
   "codemirror_mode": {
    "name": "ipython",
    "version": 3
   },
   "file_extension": ".py",
   "mimetype": "text/x-python",
   "name": "python",
   "nbconvert_exporter": "python",
   "pygments_lexer": "ipython3",
   "version": "3.10.7"
  }
 },
 "nbformat": 4,
 "nbformat_minor": 5
}
